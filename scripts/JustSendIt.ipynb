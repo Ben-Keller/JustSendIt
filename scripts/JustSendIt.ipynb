{
 "cells": [
  {
   "cell_type": "code",
   "execution_count": 47,
   "id": "820335a0",
   "metadata": {},
   "outputs": [],
   "source": [
    "import os\n",
    "import pandas as pd\n",
    "import shutil"
   ]
  },
  {
   "cell_type": "code",
   "execution_count": null,
   "id": "e44f774b",
   "metadata": {},
   "outputs": [],
   "source": []
  },
  {
   "cell_type": "code",
   "execution_count": 52,
   "id": "cff906f9",
   "metadata": {},
   "outputs": [],
   "source": [
    "def organizeFiles():\n",
    "    \n",
    "    #get list of rfid tags from the raw video folder\n",
    "    rfidTags=[]\n",
    "    rawVideoNames= os.listdir(\"../raw/videos\")\n",
    "    for name in rawVideoNames:\n",
    "        if name.split(\"-\")[0] not in rfidTags:\n",
    "            rfidTags.append(name.split(\"-\")[0])\n",
    "    \n",
    "    #create subfolders for each rfid tag in the media folder\n",
    "    folders=os.listdir(\"../media/\")\n",
    "    for rfidTag in rfidTags:\n",
    "        if rfidTag not in folders:\n",
    "            os.mkdir(\"../media/\"+rfidTag)\n",
    "            \n",
    "    #create subsubfolders for each unique video id in each rfid tag folder\n",
    "    for name in rawVideoNames:\n",
    "        rfidTag=name.split(\"-\")[0]\n",
    "        videoId=name.split(\"-\")[1].split(\".MP4\")[0]\n",
    "        if videoId not in os.listdir(\"../media/\"+rfidTag):\n",
    "            os.mkdir(\"../media/\"+rfidTag+\"/\"+videoId)\n",
    "        \n",
    "    #copy metadata and videos to new folder structure\n",
    "    for name in rawVideoNames:\n",
    "        shutil.copyfile(\"../raw/videos/\"+name, '../media/'+name.split(\"-\")[0]+\"/\"+name.split(\"-\")[1].split(\".MP4\")[0]+\"/\"+name)\n",
    "        \n",
    "organizeFiles()"
   ]
  },
  {
   "cell_type": "code",
   "execution_count": null,
   "id": "f02e7979",
   "metadata": {},
   "outputs": [],
   "source": []
  },
  {
   "cell_type": "code",
   "execution_count": null,
   "id": "5a818281",
   "metadata": {},
   "outputs": [],
   "source": []
  }
 ],
 "metadata": {
  "kernelspec": {
   "display_name": "Python 3 (ipykernel)",
   "language": "python",
   "name": "python3"
  },
  "language_info": {
   "codemirror_mode": {
    "name": "ipython",
    "version": 3
   },
   "file_extension": ".py",
   "mimetype": "text/x-python",
   "name": "python",
   "nbconvert_exporter": "python",
   "pygments_lexer": "ipython3",
   "version": "3.10.6"
  }
 },
 "nbformat": 4,
 "nbformat_minor": 5
}

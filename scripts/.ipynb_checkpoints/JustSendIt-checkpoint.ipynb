{
 "cells": [
  {
   "cell_type": "code",
   "execution_count": 11,
   "id": "880de474",
   "metadata": {},
   "outputs": [],
   "source": [
    "import os\n",
    "import pandas as pd\n",
    "import shutil\n",
    "import json"
   ]
  },
  {
   "cell_type": "code",
   "execution_count": 12,
   "id": "e876c2eb",
   "metadata": {},
   "outputs": [],
   "source": [
    "# listdir that ignores hidden files\n",
    "def listdir(path):\n",
    "    return sorted((f for f in os.listdir(path) if not f.startswith(\".\")), key=str.lower)"
   ]
  },
  {
   "cell_type": "code",
   "execution_count": 14,
   "id": "d33957a3",
   "metadata": {},
   "outputs": [
    {
     "name": "stdout",
     "output_type": "stream",
     "text": [
      "['A', 'B', 'C', 'D']\n"
     ]
    }
   ],
   "source": [
    "##function to take raw videos and metadata and reformat the file structure into the media folder\n",
    "def organizeFiles():\n",
    "        \n",
    "    #get list of rfid tags from the raw video folder\n",
    "    rfidTags=[]\n",
    "    rawVideoNames= listdir(\"../raw/videos\")\n",
    "    rawMetaNames= listdir(\"../raw/metadata\")\n",
    "    whitelistedMacs=pd.read_csv(\"../mac_address_whitelist.csv\")\n",
    "    \n",
    "    for name in rawVideoNames:\n",
    "        if name.split(\"-\")[0] not in rfidTags:\n",
    "            f = open(\"../raw/metadata/\"+\".\".join(name.split(\".\")[:-1])+\".json\", \"r\")\n",
    "            metaJson = json.loads(f.read())\n",
    "            #open json with that title\n",
    "            if metaJson[\"MACaddress\"] in whitelistedMacs[\"Mac Whitelist\"].tolist():\n",
    "                rfidTags.append(name.split(\"-\")[0])\n",
    "    print(rfidTags)\n",
    "    \n",
    "    #create subfolders for each rfid tag in the media folder\n",
    "    folders=os.listdir(\"../media/\")\n",
    "    for rfidTag in rfidTags:\n",
    "        if rfidTag not in folders:\n",
    "            os.mkdir(\"../media/\"+rfidTag)\n",
    "            os.mkdir(\"../media/\"+rfidTag+\"/metadata\")\n",
    "            os.mkdir(\"../media/\"+rfidTag+\"/videos\")\n",
    "                  \n",
    "    #copy metadata and videos to new folder structure\n",
    "    for name in rawVideoNames:\n",
    "        shutil.copyfile(\"../raw/videos/\"+name, '../media/'+name.split(\"-\")[0]+\"/videos/\"+name)\n",
    "    for name in rawMetaNames:\n",
    "        shutil.copyfile(\"../raw/metadata/\"+name, '../media/'+name.split(\"-\")[0]+\"/metadata/\"+name)\n",
    "\n",
    "organizeFiles()"
   ]
  },
  {
   "cell_type": "code",
   "execution_count": 15,
   "id": "19965a3c",
   "metadata": {},
   "outputs": [
    {
     "name": "stdout",
     "output_type": "stream",
     "text": [
      "{'A': [{'videoId': 'A-1', 'timecode': 1666207575}], 'B': [{'videoId': 'B-1', 'timecode': 1666207675}], 'C': [{'videoId': 'C-1', 'timecode': 1666207775}], 'D': [{'videoId': 'D-1', 'timecode': 1666207875}]}\n"
     ]
    }
   ],
   "source": [
    "#create object representation of timeline with videos and timecodes\n",
    "def generateSequenceObject(rfidTag):\n",
    "    sequence=[]\n",
    "    for videoFilename in listdir(\"../media/\"+rfidTag+\"/videos\"):\n",
    "        videoId=videoFilename.split(\".MP4\")[0]\n",
    "        f = open(\"../media/\"+rfidTag+\"/metadata/\"+videoId+\".json\")\n",
    "        data = json.load(f)\n",
    "        timecode=data[\"unixTime\"]\n",
    "        videoObj={\n",
    "            \"videoId\":videoId,\n",
    "            \"timecode\":timecode\n",
    "        }\n",
    "        sequence.append(videoObj)  \n",
    "    return sequence\n",
    "\n",
    "#run generateSequenceObject over all the rfidTags and collect them in a single object\n",
    "def generateAllSequenceObjects():\n",
    "    sequences={}\n",
    "    rfidTags=listdir(\"../media/\")\n",
    "    for rfidTag in rfidTags:\n",
    "        sequences[rfidTag]=generateSequenceObject(rfidTag)\n",
    "    return sequences\n",
    "        \n",
    "sequences=generateAllSequenceObjects()\n",
    "print(sequences)"
   ]
  },
  {
   "cell_type": "code",
   "execution_count": 16,
   "id": "38234145",
   "metadata": {},
   "outputs": [],
   "source": [
    "#Use Davinci Resolve API to create timelines for each rfidTag\n",
    "\n",
    "#Create a Resolve timeline with the start timecode matching the first clip start timecode.\n",
    "#Add all the clips in the correct ascending timecode order.\n",
    "#Export an EDL from the timeline.\n",
    "#Edit the EDL in a text editor. You should be able to copy the source timecode column in and out timecode to the record column in and out timecode.\n",
    "#Save the new EDL.\n",
    "#Import the new EDL which should conform a new sequence with all the clips in their appropriate places.\n",
    "#Source clip timecode should match the sequence timecode."
   ]
  },
  {
   "cell_type": "code",
   "execution_count": null,
   "id": "643ccc46",
   "metadata": {},
   "outputs": [],
   "source": []
  },
  {
   "cell_type": "code",
   "execution_count": null,
   "id": "7133ae73",
   "metadata": {},
   "outputs": [],
   "source": []
  },
  {
   "cell_type": "code",
   "execution_count": null,
   "id": "46655383",
   "metadata": {},
   "outputs": [],
   "source": []
  }
 ],
 "metadata": {
  "kernelspec": {
   "display_name": "Python 3 (ipykernel)",
   "language": "python",
   "name": "python3"
  },
  "language_info": {
   "codemirror_mode": {
    "name": "ipython",
    "version": 3
   },
   "file_extension": ".py",
   "mimetype": "text/x-python",
   "name": "python",
   "nbconvert_exporter": "python",
   "pygments_lexer": "ipython3",
   "version": "3.10.6"
  }
 },
 "nbformat": 4,
 "nbformat_minor": 5
}

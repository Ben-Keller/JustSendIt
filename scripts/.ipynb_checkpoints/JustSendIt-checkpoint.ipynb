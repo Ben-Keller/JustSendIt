{
 "cells": [
  {
   "cell_type": "code",
   "execution_count": 29,
   "id": "880de474",
   "metadata": {},
   "outputs": [],
   "source": [
    "import os\n",
    "import pandas as pd\n",
    "import shutil\n",
    "import json\n",
    "import datetime"
   ]
  },
  {
   "cell_type": "markdown",
   "id": "c5d66b65",
   "metadata": {},
   "source": [
    "This script is designed to rearrange the videos and metadata from the original formats to prepare them into the final format for sharing with the users. \n",
    "\n",
    "1) the folder with the raw files is analyzed to see the list of video and metadata files present, as well as the list of whitelisted MAC addresses\n",
    "2) the script then iterates through the video files. First it extracts the timecodes, and then makes a new folder for the corresponding date if there isn't already one\n",
    "3) For each BLEMAC address listed in the metadata for that video, the script then creates a folders for the BLEMAC address if there isn't already one, and then creates a video and a metadata folder within this subfolder\n",
    "4) the video and corresponding metadata file are then copied into these new folders\n",
    "\n",
    "From this point, the raw files have all been successfully organized. The next part of the script acts to convert this data structure into a json so it is easily navigable, and then from there further processing can be done using this new file structure.\n"
   ]
  },
  {
   "cell_type": "code",
   "execution_count": 30,
   "id": "e876c2eb",
   "metadata": {},
   "outputs": [],
   "source": [
    "# listdir that ignores hidden files\n",
    "def listdir(path):\n",
    "    return sorted((f for f in os.listdir(path) if not f.startswith(\".\")), key=str.lower)"
   ]
  },
  {
   "cell_type": "code",
   "execution_count": 37,
   "id": "b5da54e1",
   "metadata": {},
   "outputs": [],
   "source": [
    "def unixtimeToDate(unixtime):\n",
    "    unixToDatetime = datetime.datetime.fromtimestamp(1661324766) # Unix Time\n",
    "    return str(unixToDatetime)[:10]\n"
   ]
  },
  {
   "cell_type": "code",
   "execution_count": 38,
   "id": "d33957a3",
   "metadata": {},
   "outputs": [
    {
     "name": "stdout",
     "output_type": "stream",
     "text": [
      "['cc:b9:08:d9:d6:56', 'b8:bc:5b:4b:79:4a', 'af:47:08:11:15:bf', '67:6e:b5:49:6a:00']\n",
      "['af:47:08:11:15:bf', 'cc:b9:08:d9:d6:56', '40:f5:20:89:32:6e', '5f:c4:40:37:d2:2a']\n",
      "['cc:b9:08:d9:d6:56', 'af:47:08:11:15:bf']\n",
      "['3c:1c:68:5e:57:d4', 'cc:b9:08:d9:d6:56', 'f8:dc:cc:e7:9c:32']\n",
      "['4f:66:12:f9:d6:eb', '3c:1c:68:5e:57:d4', 'cc:b9:08:d9:d6:56']\n",
      "['f8:dc:cc:e7:9c:32']\n",
      "[]\n"
     ]
    }
   ],
   "source": [
    "##function to take raw videos and metadata and reformat the file structure into the media folder\n",
    "def organizeFiles():\n",
    "        \n",
    "    #get list of videos and metadata files from the raw video folder\n",
    "    rawVideoNames= listdir(\"../raw/videos\")\n",
    "    rawMetaNames= listdir(\"../raw/metadata\")\n",
    "    whitelistedMacs=pd.read_csv(\"../mac_address_whitelist.csv\")\n",
    "    \n",
    "    \n",
    "    # the script then iterates through the video files. First it extracts the timecodes, and then makes a new folder for the corresponding date if there isn't already one\n",
    "    \n",
    "    for name in rawVideoNames:\n",
    "        splitName=name.split(\".mp4\")[0]\n",
    "        unixTime=splitName ##update once time is in metadata\n",
    "        date=unixtimeToDate(unixTime)\n",
    "        folders=os.listdir(\"../media/\")\n",
    "        if date not in folders:\n",
    "            os.mkdir(\"../media/\"+date)\n",
    "            \n",
    "            \n",
    "        #load the corresponding metadata\n",
    "        f = open(\"../raw/metadata/\"+name.split(\".mp4\")[0]+\".json\", \"r\")\n",
    "        metaJson = json.loads(f.read())\n",
    "        #open json with that title\n",
    "        bleIds=metaJson[\"bleMACs\"]\n",
    "        print(bleIds)\n",
    "        \n",
    "        #For each BLEMAC address listed in the metadata for that video, the script then creates a folders for the BLEMAC address if there isn't already one, and then creates a video and a metadata folder within this subfolder\n",
    "        for bleId in bleIds:\n",
    "            if bleId.upper() in whitelistedMacs[\"Mac Whitelist\"].tolist():\n",
    "                path=\"../media/\"+date+\"/\"+bleId.replace(\":\",\"\")\n",
    "                \n",
    "                dateFolders=os.listdir(\"../media/\"+date)\n",
    "\n",
    "                if bleId.replace(\":\",\"\") not in dateFolders:\n",
    "                    os.mkdir(path)\n",
    "                    os.mkdir(path+\"/metadata\")\n",
    "                    os.mkdir(path+\"/videos\")\n",
    "                    \n",
    "                #the video and corresponding metadata file are then copied into these new folders\n",
    "\n",
    "                shutil.copyfile(\"../raw/videos/\"+splitName+\".mp4\", path+\"/videos/\"+splitName+\".mp4\")\n",
    "                shutil.copyfile(\"../raw/metadata/\"+splitName+\".json\", path+\"/metadata/\"+splitName+\".json\")\n",
    "\n",
    "organizeFiles()"
   ]
  },
  {
   "cell_type": "code",
   "execution_count": 15,
   "id": "19965a3c",
   "metadata": {},
   "outputs": [
    {
     "name": "stdout",
     "output_type": "stream",
     "text": [
      "{'A': [{'videoId': 'A-1', 'timecode': 1666207575}], 'B': [{'videoId': 'B-1', 'timecode': 1666207675}], 'C': [{'videoId': 'C-1', 'timecode': 1666207775}], 'D': [{'videoId': 'D-1', 'timecode': 1666207875}]}\n"
     ]
    }
   ],
   "source": [
    "#create object representation of timeline with videos and timecodes\n",
    "def generateSequenceObject(rfidTag):\n",
    "    sequence=[]\n",
    "    for videoFilename in listdir(\"../media/\"+rfidTag+\"/videos\"):\n",
    "        videoId=videoFilename.split(\".MP4\")[0]\n",
    "        f = open(\"../media/\"+rfidTag+\"/metadata/\"+videoId+\".json\")\n",
    "        data = json.load(f)\n",
    "        timecode=data[\"unixTime\"]\n",
    "        videoObj={\n",
    "            \"videoId\":videoId,\n",
    "            \"timecode\":timecode\n",
    "        }\n",
    "        sequence.append(videoObj)  \n",
    "    return sequence\n",
    "\n",
    "#run generateSequenceObject over all the rfidTags and collect them in a single object\n",
    "def generateAllSequenceObjects():\n",
    "    sequences={}\n",
    "    rfidTags=listdir(\"../media/\")\n",
    "    for rfidTag in rfidTags:\n",
    "        sequences[rfidTag]=generateSequenceObject(rfidTag)\n",
    "    return sequences\n",
    "        \n",
    "sequences=generateAllSequenceObjects()\n",
    "print(sequences)"
   ]
  },
  {
   "cell_type": "code",
   "execution_count": 16,
   "id": "38234145",
   "metadata": {},
   "outputs": [],
   "source": [
    "#Use Davinci Resolve API to create timelines for each rfidTag\n",
    "\n",
    "#Create a Resolve timeline with the start timecode matching the first clip start timecode.\n",
    "#Add all the clips in the correct ascending timecode order.\n",
    "#Export an EDL from the timeline.\n",
    "#Edit the EDL in a text editor. You should be able to copy the source timecode column in and out timecode to the record column in and out timecode.\n",
    "#Save the new EDL.\n",
    "#Import the new EDL which should conform a new sequence with all the clips in their appropriate places.\n",
    "#Source clip timecode should match the sequence timecode."
   ]
  },
  {
   "cell_type": "code",
   "execution_count": null,
   "id": "643ccc46",
   "metadata": {},
   "outputs": [],
   "source": []
  },
  {
   "cell_type": "code",
   "execution_count": null,
   "id": "7133ae73",
   "metadata": {},
   "outputs": [],
   "source": []
  },
  {
   "cell_type": "code",
   "execution_count": null,
   "id": "46655383",
   "metadata": {},
   "outputs": [],
   "source": []
  }
 ],
 "metadata": {
  "kernelspec": {
   "display_name": "Python 3 (ipykernel)",
   "language": "python",
   "name": "python3"
  },
  "language_info": {
   "codemirror_mode": {
    "name": "ipython",
    "version": 3
   },
   "file_extension": ".py",
   "mimetype": "text/x-python",
   "name": "python",
   "nbconvert_exporter": "python",
   "pygments_lexer": "ipython3",
   "version": "3.10.6"
  }
 },
 "nbformat": 4,
 "nbformat_minor": 5
}
